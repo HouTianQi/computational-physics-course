{
 "cells": [
  {
   "cell_type": "markdown",
   "metadata": {
    "collapsed": false
   },
   "source": [
    "Bayes neywork\n",
    "\n",
    "$$p(x)=\\prod _{k=1}^{k}p(x_{k}|\\pi(x_{k}))    $$"
   ]
  },
  {
   "cell_type": "markdown",
   "metadata": {},
   "source": [
    "Conditional Independence\n",
    "$$ p(a,b|c)=p(a|c)p(b|c)$$"
   ]
  },
  {
   "cell_type": "markdown",
   "metadata": {},
   "source": [
    "D-separation"
   ]
  },
  {
   "cell_type": "markdown",
   "metadata": {},
   "source": [
    "![WechatIMG12238.jpeg](https://ooo.0o0.ooo/2017/02/09/589b5ba5ac61c.jpeg)"
   ]
  },
  {
   "cell_type": "markdown",
   "metadata": {},
   "source": [
    "![WechatIMGvvvvvvv12241.jpeg](https://ooo.0o0.ooo/2017/02/09/589b5e9c47c6f.jpeg)"
   ]
  },
  {
   "cell_type": "markdown",
   "metadata": {},
   "source": [
    "![WechatIMG12240.jpeg](https://ooo.0o0.ooo/2017/02/09/589b5eeebc68d.jpeg)"
   ]
  },
  {
   "cell_type": "markdown",
   "metadata": {},
   "source": [
    "U-separation"
   ]
  },
  {
   "cell_type": "markdown",
   "metadata": {},
   "source": [
    "![WechatIMG12242.jpeg](https://ooo.0o0.ooo/2017/02/09/589b5f975516d.jpeg)"
   ]
  },
  {
   "cell_type": "markdown",
   "metadata": {},
   "source": [
    "Normal Map"
   ]
  },
  {
   "cell_type": "markdown",
   "metadata": {},
   "source": [
    "![WechatIMG12243.jpeg](https://ooo.0o0.ooo/2017/02/09/589b61155dcdb.jpeg)"
   ]
  },
  {
   "cell_type": "markdown",
   "metadata": {},
   "source": []
  },
  {
   "cell_type": "markdown",
   "metadata": {},
   "source": [
    "# clique tree propagation"
   ]
  },
  {
   "cell_type": "markdown",
   "metadata": {},
   "source": [
    "step1: build clique tree"
   ]
  },
  {
   "cell_type": "markdown",
   "metadata": {},
   "source": [
    "![WechatIMG12244.jpeg](https://ooo.0o0.ooo/2017/02/09/589b62625e958.jpeg)"
   ]
  },
  {
   "cell_type": "markdown",
   "metadata": {},
   "source": [
    "step 2 choose the root and leaves,pass the message from leaves to root and root to leraves.\n",
    "\n"
   ]
  },
  {
   "cell_type": "markdown",
   "metadata": {},
   "source": [
    "![WechatIMG12245.jpeg](https://ooo.0o0.ooo/2017/02/09/589b63d86d23c.jpeg)"
   ]
  },
  {
   "cell_type": "markdown",
   "metadata": {},
   "source": [
    "$$\\varphi_{1}(T)=\\sum_{A}P(A)P(T|A)  $$"
   ]
  },
  {
   "cell_type": "markdown",
   "metadata": {},
   "source": [
    "$$ \\varphi _{2}(R)=\\sum_{X} P(X|R)$$"
   ]
  },
  {
   "cell_type": "markdown",
   "metadata": {},
   "source": [
    "$$\\varphi_{3}(L,B)=\\sum_{S}P(S)P(L|S)P(B|S) $$"
   ]
  },
  {
   "cell_type": "markdown",
   "metadata": {},
   "source": [
    "# belief propagation in factor  graph"
   ]
  },
  {
   "cell_type": "markdown",
   "metadata": {},
   "source": [
    "  bulid factor graph\n",
    "   ![WechatIMG12246.jpeg](https://ooo.0o0.ooo/2017/02/09/589c17c2189e5.jpeg) "
   ]
  },
  {
   "cell_type": "markdown",
   "metadata": {},
   "source": [
    "from factor nodes to variable nodes\n",
    "$$ \\mu_{f_{s}\\to x}(x)=\\sum_{x_{1}}\\sum_{x_{2}}......\\sum_{x_{M}} f_{s}(x_{1}...f_{M})\\prod _{m \\in ne(f_{s}/x)} \\mu _{x_{m}\\to f_{s}(x_{m})}         $$"
   ]
  },
  {
   "cell_type": "markdown",
   "metadata": {},
   "source": [
    "from variable node to factor node:\n",
    "    "
   ]
  },
  {
   "cell_type": "markdown",
   "metadata": {},
   "source": [
    "$$ \\mu _{x_{m} \\to f_{s}}(x_{m}) =\\prod _{l \\in ne(x_{m}/f_{s})} \\mu _{f_{l}\\to x_{m}} (x_{m}) $$"
   ]
  },
  {
   "cell_type": "markdown",
   "metadata": {},
   "source": [
    "we choose the $x_{2}$ as root"
   ]
  },
  {
   "cell_type": "markdown",
   "metadata": {},
   "source": [
    "![WechatIMG12247.jpeg](https://ooo.0o0.ooo/2017/02/09/589c1dba2461b.jpeg)"
   ]
  },
  {
   "cell_type": "markdown",
   "metadata": {},
   "source": [
    "the belief (Marginal probability)：\n",
    "\n",
    "\n",
    "  $$ b_{i}(x_{i})=\\prod _{a\\in N(i)}\\mu _{a\\to i}(x_{i})   $$"
   ]
  },
  {
   "cell_type": "markdown",
   "metadata": {},
   "source": [
    "# region graph"
   ]
  },
  {
   "cell_type": "markdown",
   "metadata": {},
   "source": [
    "$$ b_{\\bf R }(x)$$ as the appromximation of the $$ P(x) $$"
   ]
  },
  {
   "cell_type": "markdown",
   "metadata": {},
   "source": [
    "appromximation free energy :\n",
    "$$F(b)=\\sum _{x\\in s}b(x)E(x) +\\sum_{x\\in s}b(x)\\ln b(x)  $$"
   ]
  },
  {
   "cell_type": "markdown",
   "metadata": {},
   "source": []
  },
  {
   "cell_type": "markdown",
   "metadata": {},
   "source": [
    "$$F(b)=F(H) +D(b||p)$$"
   ]
  },
  {
   "cell_type": "markdown",
   "metadata": {},
   "source": [
    "$$D(b||p)=\\sum_{x\\in s}b(x) \\ln \\frac{b(x)}{p(x)} $$"
   ]
  },
  {
   "cell_type": "markdown",
   "metadata": {},
   "source": []
  },
  {
   "cell_type": "markdown",
   "metadata": {},
   "source": [
    "$$D(b||p)\\geq 0  $$"
   ]
  },
  {
   "cell_type": "markdown",
   "metadata": {},
   "source": [
    " we aim is to find the $$ f(b)_{min}$$"
   ]
  },
  {
   "cell_type": "markdown",
   "metadata": {},
   "source": [
    "# bethe methed\n"
   ]
  },
  {
   "cell_type": "markdown",
   "metadata": {},
   "source": [
    "$$F_{bethe}=-\\sum_{a=1}^{M}\\sum_{x_{a}}b(x_{a})\\ln f(x_{a}) +\\sum_{a=1}^{M}\\sum_{x_{a}}b(x_{a} \\ln b(x_{a})) +\\sum _{i=1}^{N} (d_{i}-1) \\sum_{x_{i}}b_{i}(x_{i}) \\ln b_{i}(x_{i})  $$"
   ]
  },
  {
   "cell_type": "markdown",
   "metadata": {},
   "source": [
    "constrains:\n",
    "  $$ \\sum_{x_{i}} b(x_{i})=\\sum _{x_{a}} b_{x_{a}}(x_{a}) =1$$"
   ]
  },
  {
   "cell_type": "markdown",
   "metadata": {},
   "source": [
    "$$ \\sum _{x_{a}/x_{i}}b_{a}(x_{a})=b_{i}(x_{i})        $$"
   ]
  },
  {
   "cell_type": "markdown",
   "metadata": {},
   "source": [
    "we can get the Lagrangian  function(SBP):"
   ]
  },
  {
   "cell_type": "markdown",
   "metadata": {},
   "source": [
    "\n",
    "$$ L=F_{bethe}+\\sum_{a}\\gamma[\\sum_{x_{a}}b_{a}(x_{a})-1] +\\sum_{i} \\gamma_{i}[\\sum _{x_{i}}-1]+\\sum _{i}\\sum_{a}\\sum_{x_{i }} \\mu _{ai}(x_{i})[b_{i}(x_{i}-\\sum_{x_{a}/x_{i}} b_{a}(x_{a})]    $$"
   ]
  },
  {
   "cell_type": "markdown",
   "metadata": {},
   "source": []
  },
  {
   "cell_type": "markdown",
   "metadata": {},
   "source": [
    "# region method "
   ]
  },
  {
   "cell_type": "markdown",
   "metadata": {},
   "source": [
    "cluster variation method:\n",
    "\n",
    "$R_{0}$:every factor node a and every variable node i in our factor graph is included in at least one region "
   ]
  },
  {
   "cell_type": "markdown",
   "metadata": {},
   "source": [
    "$R_{1}$:all possible intersections between regions in $R_{0}$"
   ]
  },
  {
   "cell_type": "markdown",
   "metadata": {},
   "source": [
    "$R_{2}$:all possible intersections between regions in $R_{1}$"
   ]
  },
  {
   "cell_type": "markdown",
   "metadata": {},
   "source": [
    "![WechatIMG12248.jpeg](https://ooo.0o0.ooo/2017/02/09/589c2af29edac.jpeg)"
   ]
  },
  {
   "cell_type": "markdown",
   "metadata": {},
   "source": [
    "![WechatIMG12249.jpeg](https://ooo.0o0.ooo/2017/02/09/589c2b3982244.jpeg)"
   ]
  },
  {
   "cell_type": "markdown",
   "metadata": {},
   "source": []
  },
  {
   "cell_type": "markdown",
   "metadata": {},
   "source": []
  },
  {
   "cell_type": "markdown",
   "metadata": {},
   "source": []
  },
  {
   "cell_type": "markdown",
   "metadata": {},
   "source": []
  },
  {
   "cell_type": "markdown",
   "metadata": {},
   "source": []
  },
  {
   "cell_type": "markdown",
   "metadata": {},
   "source": []
  }
 ],
 "metadata": {
  "kernelspec": {
   "display_name": "Python 3",
   "language": "python",
   "name": "python3"
  },
  "language_info": {
   "codemirror_mode": {
    "name": "ipython",
    "version": 3
   },
   "file_extension": ".py",
   "mimetype": "text/x-python",
   "name": "python",
   "nbconvert_exporter": "python",
   "pygments_lexer": "ipython3",
   "version": "3.6.0"
  }
 },
 "nbformat": 4,
 "nbformat_minor": 2
}
